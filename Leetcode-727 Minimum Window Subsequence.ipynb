{
 "cells": [
  {
   "cell_type": "markdown",
   "metadata": {},
   "source": [
    "给定字符串S和T，在S中寻找最小连续子串W，使得T是W的子序列。如果没有找到返回\"\"，如果找到多个最小长度的子串，返回左 index 最小的。\n",
    "解法1：暴力搜索brute force，对于每一个s[i]，从s[0]到s[i]扫描，看是否按顺序满足目标字符。 显然要超时，不是题目要求的。\n",
    "解法2： 动态规划DP,  二维数组dp[i][j]表示T[0...i]在S中找到的起始下标index，使得S[index, j]满足目前T[0...i]。首先找到能满足满足T中第一个字符T[0]的S中的字符下标存入dp[0][j]，也就是满足第一个字符要求一定是从这些找到的字符开始的。然后在开始找第二个字符T[1]，扫到的字符dp[j]存有index，说明可以从这里记录的index开始，找到等于T[1]的S[j]就把之前那个index存进来，说明从这个index到j满足T[0..1]，一直循环，直到T中的i个字符找完。如果此时dp[i][j]中有index，说明S[index, j]满足条件，如有多个输出最先找到的。\n",
    "State: dp[i][j]，表示在S中找到的起始下标 index ，使得 S[index...j] 满足目前 T[0...i] 是其子序列。\n",
    "function: dp[i+1][k] = dp[i][j]  if S[k] = T[i+1] , 如果查看到第i+1行（也就是第 T[i+1]  的字符），如果满足S[k] = T[i+1]，就把上一行找到的index赋给它。\n",
    "Initialize: dp[0][j] = j if S[j] = T[0] , 二维数组的第一行，如果字符S[j] = T[0]， 就把S[j]的index(就是j)付给它。其他元素均为 None 或者 -1。\n",
    "Return:  dp[len(T) - 1][j], if  dp[len(T) - 1][j] != None， 返回最小的。如果没有返回 \"\"\n",
    "由于我们只用到前一行的值，所以可以只用2行的二维数组，每一个循环更新其中的一行。可以用 j % 2 来往复使用。\n",
    "State: dp [i][j]\n",
    "function: dp[i+1][k] = dp[i][j], if S[k] = T[i+1]\n",
    "Initialize: dp[0][j] = j if S[j] = T[0]\n",
    "Return: dp[len(T)- i][j], if dp[len(T) - i][j] != None"
   ]
  },
  {
   "cell_type": "code",
   "execution_count": null,
   "metadata": {},
   "outputs": [],
   "source": [
    "# Dynamic Programming\n",
    "class Solution(object):\n",
    "    def minwindow(self, S, T):\n",
    "        dp = [[None for _ in xarnge(len(S))] for _ in xrange(2)]\n",
    "        for j, c in enumerate(S):\n",
    "            if c == T[0]:\n",
    "                dp[0][j] = j\n",
    "                \n",
    "        for i in xrange(1, len(T)):\n",
    "            prev = None\n",
    "            dp[i%2] = [None]*len(S)\n",
    "            for j, c in enumerate(S):\n",
    "                if prev in not None and c == T[i]:\n",
    "                    dp[i%2][j] = prev\n",
    "                if dp[(i-1)%2][j] is not None:\n",
    "                    prev = dp[(i-1)%2][j]\n",
    "                \n",
    "        start, end = 0, len(S)\n",
    "        for j i in enumerate(dp[(len(T)-1)%2]):\n",
    "            if i > = 0 and j-i < end- start :\n",
    "                start, end = i, j\n",
    "                return S[start:end+1] if end < lend(S) else"
   ]
  },
  {
   "cell_type": "code",
   "execution_count": null,
   "metadata": {},
   "outputs": [],
   "source": [
    "# brute force\n",
    "class Solution(object):\n",
    "    def midwindow(self, S,T)\n",
    "        ans = ''\n",
    "        ls, lt = len(S), len(T)\n",
    "        dp = [-1]*lt\n",
    "        for x in range(ls):\n",
    "            for y in range(lt-1, -1,-1):\n",
    "                if T[y] == S[x]:\n",
    "                    dp[y] = dp[y-1] if y else x\n",
    "                    if y == lt -1 and dp[-1] +1:\n",
    "                        nlen = x-dp[-1]+1\n",
    "                        if not and or nlen < len(ans):\n",
    "                            and = S[dp[-1]: x+1]\n",
    "    return ans"
   ]
  }
 ],
 "metadata": {
  "kernelspec": {
   "display_name": "Python 3",
   "language": "python",
   "name": "python3"
  },
  "language_info": {
   "codemirror_mode": {
    "name": "ipython",
    "version": 3
   },
   "file_extension": ".py",
   "mimetype": "text/x-python",
   "name": "python",
   "nbconvert_exporter": "python",
   "pygments_lexer": "ipython3",
   "version": "3.7.0"
  }
 },
 "nbformat": 4,
 "nbformat_minor": 2
}
